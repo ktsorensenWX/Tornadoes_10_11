{
 "cells": [
  {
   "cell_type": "code",
   "execution_count": null,
   "metadata": {},
   "outputs": [],
   "source": [
    "import pandas as pd\n",
    "import matplotlib.pyplot as plt\n",
    "import pandas_profiling as pp\n",
    "import seaborn as sns\n",
    "import plotly.express as px\n",
    "\n",
    "import sys"
   ]
  },
  {
   "cell_type": "code",
   "execution_count": null,
   "metadata": {},
   "outputs": [],
   "source": [
    "# Read html tables from wikipedia\n",
    "dec_outbreak = pd.read_html('https://en.wikipedia.org/wiki/Tornado_outbreak_of_December_10%E2%80%9311,_2021', header=0)"
   ]
  },
  {
   "cell_type": "code",
   "execution_count": null,
   "metadata": {},
   "outputs": [],
   "source": [
    "dec_10_system = dec_outbreak[4]\n",
    "dec_11_system = dec_outbreak[5]"
   ]
  },
  {
   "cell_type": "code",
   "execution_count": null,
   "metadata": {},
   "outputs": [],
   "source": [
    "# Add a date column for both\n",
    "dec_10_system['date_occured'] = '12-10-21'\n",
    "dec_11_system['date_occured'] = '12-11-21'"
   ]
  },
  {
   "cell_type": "code",
   "execution_count": null,
   "metadata": {},
   "outputs": [],
   "source": [
    "# Combine both df's\n",
    "two_day_system = pd.concat([dec_10_system, dec_11_system])"
   ]
  },
  {
   "cell_type": "code",
   "execution_count": null,
   "metadata": {},
   "outputs": [],
   "source": [
    "# drop coordinates of origin for reliability and easier df to work with, no role in this project\n",
    "two_day_system.drop('Start Coord.', axis=1, inplace=True)"
   ]
  },
  {
   "cell_type": "code",
   "execution_count": null,
   "metadata": {},
   "outputs": [],
   "source": [
    "# Lets work with just the dec. 10th data for now, start by splitting path length and width into two columns (mi and km)\n",
    "two_day_system['Path_Length_mi'] = two_day_system['Path length'].str.replace(r\"\\(.*\\)\",\"\", regex=True).str.strip()\n",
    "two_day_system['Path_Length_km'] = two_day_system['Path length'].str.replace(r'[^(]*\\(|\\)[^)]*', '', regex=True).str.strip()\n",
    "two_day_system['Width_yd'] = two_day_system['Max width'].str.replace(r\"\\(.*\\)\",\"\", regex=True).str.strip()\n",
    "two_day_system['Width_m'] = two_day_system['Max width'].str.replace(r'[^(]*\\(|\\)[^)]*', '', regex=True).str.strip()\n",
    "\n",
    "\n",
    "# Drop original path length column\n",
    "two_day_system.drop('Path length', axis=1, inplace=True)\n",
    "two_day_system.drop('Max width', axis=1, inplace=True)"
   ]
  },
  {
   "cell_type": "code",
   "execution_count": null,
   "metadata": {},
   "outputs": [],
   "source": [
    "# Rename these columns to be more pythonic\n",
    "two_day_system.rename(columns={'EF#':'Fujita_Rating', 'County / Parish':'County', 'Time (UTC)':'Time_UTC'}, inplace=True)"
   ]
  },
  {
   "cell_type": "code",
   "execution_count": null,
   "metadata": {},
   "outputs": [],
   "source": [
    "# remove units at end of lengths and widths\n",
    "two_day_system['Path_Length_mi'] = two_day_system['Path_Length_mi'].str[:-3]\n",
    "two_day_system['Path_Length_km'] = two_day_system['Path_Length_km'].str[:-3]\n",
    "two_day_system['Width_yd'] = two_day_system['Width_yd'].str[:-3]\n",
    "two_day_system['Width_m'] = two_day_system['Width_m'].str[:-2]"
   ]
  },
  {
   "cell_type": "code",
   "execution_count": null,
   "metadata": {},
   "outputs": [],
   "source": [
    "# Strip all characters from width\n",
    "two_day_system['Width_yd'] = two_day_system['Width_yd'].str.replace(',', '')\n",
    "two_day_system['Width_m'] = two_day_system['Width_m'].str.replace(',', '')"
   ]
  },
  {
   "cell_type": "code",
   "execution_count": null,
   "metadata": {},
   "outputs": [],
   "source": [
    "# Convert all to numeric dtypes\n",
    "two_day_system['Path_Length_mi'] = two_day_system['Path_Length_mi'].apply(pd.to_numeric)\n",
    "two_day_system['Path_Length_km'] = two_day_system['Path_Length_km'].apply(pd.to_numeric)\n",
    "two_day_system['Width_yd'] = two_day_system['Width_yd'].apply(pd.to_numeric)\n",
    "two_day_system['Width_m'] = two_day_system['Width_m'].apply(pd.to_numeric)"
   ]
  },
  {
   "cell_type": "code",
   "execution_count": null,
   "metadata": {},
   "outputs": [],
   "source": [
    "two_day_system.sort_values('Fujita_Rating', inplace=True)\n",
    "two_day_system[two_day_system['State'] == 'KY']"
   ]
  },
  {
   "cell_type": "code",
   "execution_count": null,
   "metadata": {},
   "outputs": [],
   "source": [
    "# Make a plot of rating totals\n",
    "rating_df = two_day_system[['Fujita_Rating']]\n",
    "grouped_rating = rating_df.groupby('Fujita_Rating').size()\n",
    "\n",
    "plot_rating = grouped_rating.plot(kind='bar', xlabel='Fujita Rating', ylabel='Count', title='Count of storms per rating on December 10th - 11th', \n",
    "figsize=(15,10), color='purple', edgecolor='black')"
   ]
  },
  {
   "cell_type": "code",
   "execution_count": 22,
   "metadata": {},
   "outputs": [
    {
     "data": {
      "application/vnd.plotly.v1+json": {
       "config": {
        "plotlyServerURL": "https://plot.ly"
       },
       "data": [
        {
         "hovertemplate": "Fujita_Rating=%{x}<br>Path_Length_km=%{y}<br>Width_m=%{z}<extra></extra>",
         "legendgroup": "EF0",
         "marker": {
          "color": "#636efa",
          "symbol": "circle"
         },
         "mode": "markers",
         "name": "EF0",
         "scene": "scene",
         "showlegend": true,
         "type": "scatter3d",
         "x": [
          "EF0",
          "EF0",
          "EF0",
          "EF0",
          "EF0",
          "EF0",
          "EF0",
          "EF0",
          "EF0",
          "EF0",
          "EF0",
          "EF0",
          "EF0",
          "EF0",
          "EF0",
          "EF0",
          "EF0"
         ],
         "y": [
          0.31,
          3.44,
          11.73,
          4.94,
          9.99,
          2.22,
          14,
          10.91,
          0.85,
          7.7,
          0.4,
          0.8,
          0.64,
          5,
          6.1,
          4.7,
          1.9
         ],
         "z": [
          46,
          27,
          69,
          46,
          46,
          46,
          270,
          91,
          46,
          91,
          18,
          23,
          46,
          73,
          180,
          46,
          46
         ]
        },
        {
         "hovertemplate": "Fujita_Rating=%{x}<br>Path_Length_km=%{y}<br>Width_m=%{z}<extra></extra>",
         "legendgroup": "EF1",
         "marker": {
          "color": "#EF553B",
          "symbol": "circle"
         },
         "mode": "markers",
         "name": "EF1",
         "scene": "scene",
         "showlegend": true,
         "type": "scatter3d",
         "x": [
          "EF1",
          "EF1",
          "EF1",
          "EF1",
          "EF1",
          "EF1",
          "EF1",
          "EF1",
          "EF1",
          "EF1",
          "EF1",
          "EF1",
          "EF1",
          "EF1",
          "EF1",
          "EF1",
          "EF1",
          "EF1",
          "EF1",
          "EF1",
          "EF1",
          "EF1",
          "EF1",
          "EF1",
          "EF1",
          "EF1",
          "EF1",
          "EF1"
         ],
         "y": [
          0.82,
          23.3,
          3.1,
          8.96,
          5.84,
          11.54,
          4.72,
          0.97,
          0.4,
          1.9,
          10.98,
          12.34,
          1.6,
          10,
          17.98,
          7.2,
          10.1,
          2.6,
          12.6,
          14.6,
          2.98,
          1.08,
          0.97,
          4.43,
          14.2,
          3.1,
          0.89,
          7.5
         ],
         "z": [
          27,
          230,
          46,
          160,
          370,
          91,
          870,
          91,
          69,
          114,
          140,
          91,
          46,
          140,
          69,
          91,
          69,
          240,
          270,
          91,
          91,
          69,
          91,
          69,
          91,
          46,
          73,
          140
         ]
        },
        {
         "hovertemplate": "Fujita_Rating=%{x}<br>Path_Length_km=%{y}<br>Width_m=%{z}<extra></extra>",
         "legendgroup": "EF2",
         "marker": {
          "color": "#00cc96",
          "symbol": "circle"
         },
         "mode": "markers",
         "name": "EF2",
         "scene": "scene",
         "showlegend": true,
         "type": "scatter3d",
         "x": [
          "EF2",
          "EF2",
          "EF2",
          "EF2",
          "EF2",
          "EF2",
          "EF2",
          "EF2",
          "EF2",
          "EF2",
          "EF2",
          "EF2",
          "EF2",
          "EF2",
          "EF2"
         ],
         "y": [
          66.74,
          5.8,
          25.4,
          7.4,
          10.1,
          9.8,
          38.54,
          19.65,
          20.57,
          21.13,
          24.9,
          14.66,
          26.7,
          1.01,
          5.87
         ],
         "z": [
          630,
          230,
          180,
          230,
          270,
          270,
          480,
          370,
          180,
          460,
          550,
          460,
          820,
          91,
          91
         ]
        },
        {
         "hovertemplate": "Fujita_Rating=%{x}<br>Path_Length_km=%{y}<br>Width_m=%{z}<extra></extra>",
         "legendgroup": "EF3",
         "marker": {
          "color": "#ab63fa",
          "symbol": "circle"
         },
         "mode": "markers",
         "name": "EF3",
         "scene": "scene",
         "showlegend": true,
         "type": "scatter3d",
         "x": [
          "EF3",
          "EF3",
          "EF3",
          "EF3",
          "EF3",
          "EF3"
         ],
         "y": [
          48,
          34,
          23.7,
          45.11,
          5.87,
          197.8
         ],
         "z": [
          400,
          91,
          410,
          1300,
          270,
          949
         ]
        },
        {
         "hovertemplate": "Fujita_Rating=%{x}<br>Path_Length_km=%{y}<br>Width_m=%{z}<extra></extra>",
         "legendgroup": "EF4",
         "marker": {
          "color": "#FFA15A",
          "symbol": "circle"
         },
         "mode": "markers",
         "name": "EF4",
         "scene": "scene",
         "showlegend": true,
         "type": "scatter3d",
         "x": [
          "EF4",
          "EF4"
         ],
         "y": [
          130.7,
          266.7
         ],
         "z": [
          1600,
          1610
         ]
        },
        {
         "hovertemplate": "Fujita_Rating=%{x}<br>Path_Length_km=%{y}<br>Width_m=%{z}<extra></extra>",
         "legendgroup": "EFU",
         "marker": {
          "color": "#19d3f3",
          "symbol": "circle"
         },
         "mode": "markers",
         "name": "EFU",
         "scene": "scene",
         "showlegend": true,
         "type": "scatter3d",
         "x": [
          "EFU"
         ],
         "y": [
          10.77
         ],
         "z": [
          140
         ]
        }
       ],
       "layout": {
        "height": 1000,
        "legend": {
         "title": {
          "text": "Fujita_Rating"
         },
         "tracegroupgap": 0
        },
        "scene": {
         "domain": {
          "x": [
           0,
           1
          ],
          "y": [
           0,
           1
          ]
         },
         "xaxis": {
          "categoryarray": [
           "EF0",
           "EF1",
           "EF2",
           "EF3",
           "EF4",
           "EFU"
          ],
          "categoryorder": "array",
          "title": {
           "text": "Fujita_Rating"
          }
         },
         "yaxis": {
          "title": {
           "text": "Path_Length_km"
          }
         },
         "zaxis": {
          "title": {
           "text": "Width_m"
          }
         }
        },
        "template": {
         "data": {
          "bar": [
           {
            "error_x": {
             "color": "#2a3f5f"
            },
            "error_y": {
             "color": "#2a3f5f"
            },
            "marker": {
             "line": {
              "color": "#E5ECF6",
              "width": 0.5
             },
             "pattern": {
              "fillmode": "overlay",
              "size": 10,
              "solidity": 0.2
             }
            },
            "type": "bar"
           }
          ],
          "barpolar": [
           {
            "marker": {
             "line": {
              "color": "#E5ECF6",
              "width": 0.5
             },
             "pattern": {
              "fillmode": "overlay",
              "size": 10,
              "solidity": 0.2
             }
            },
            "type": "barpolar"
           }
          ],
          "carpet": [
           {
            "aaxis": {
             "endlinecolor": "#2a3f5f",
             "gridcolor": "white",
             "linecolor": "white",
             "minorgridcolor": "white",
             "startlinecolor": "#2a3f5f"
            },
            "baxis": {
             "endlinecolor": "#2a3f5f",
             "gridcolor": "white",
             "linecolor": "white",
             "minorgridcolor": "white",
             "startlinecolor": "#2a3f5f"
            },
            "type": "carpet"
           }
          ],
          "choropleth": [
           {
            "colorbar": {
             "outlinewidth": 0,
             "ticks": ""
            },
            "type": "choropleth"
           }
          ],
          "contour": [
           {
            "colorbar": {
             "outlinewidth": 0,
             "ticks": ""
            },
            "colorscale": [
             [
              0,
              "#0d0887"
             ],
             [
              0.1111111111111111,
              "#46039f"
             ],
             [
              0.2222222222222222,
              "#7201a8"
             ],
             [
              0.3333333333333333,
              "#9c179e"
             ],
             [
              0.4444444444444444,
              "#bd3786"
             ],
             [
              0.5555555555555556,
              "#d8576b"
             ],
             [
              0.6666666666666666,
              "#ed7953"
             ],
             [
              0.7777777777777778,
              "#fb9f3a"
             ],
             [
              0.8888888888888888,
              "#fdca26"
             ],
             [
              1,
              "#f0f921"
             ]
            ],
            "type": "contour"
           }
          ],
          "contourcarpet": [
           {
            "colorbar": {
             "outlinewidth": 0,
             "ticks": ""
            },
            "type": "contourcarpet"
           }
          ],
          "heatmap": [
           {
            "colorbar": {
             "outlinewidth": 0,
             "ticks": ""
            },
            "colorscale": [
             [
              0,
              "#0d0887"
             ],
             [
              0.1111111111111111,
              "#46039f"
             ],
             [
              0.2222222222222222,
              "#7201a8"
             ],
             [
              0.3333333333333333,
              "#9c179e"
             ],
             [
              0.4444444444444444,
              "#bd3786"
             ],
             [
              0.5555555555555556,
              "#d8576b"
             ],
             [
              0.6666666666666666,
              "#ed7953"
             ],
             [
              0.7777777777777778,
              "#fb9f3a"
             ],
             [
              0.8888888888888888,
              "#fdca26"
             ],
             [
              1,
              "#f0f921"
             ]
            ],
            "type": "heatmap"
           }
          ],
          "heatmapgl": [
           {
            "colorbar": {
             "outlinewidth": 0,
             "ticks": ""
            },
            "colorscale": [
             [
              0,
              "#0d0887"
             ],
             [
              0.1111111111111111,
              "#46039f"
             ],
             [
              0.2222222222222222,
              "#7201a8"
             ],
             [
              0.3333333333333333,
              "#9c179e"
             ],
             [
              0.4444444444444444,
              "#bd3786"
             ],
             [
              0.5555555555555556,
              "#d8576b"
             ],
             [
              0.6666666666666666,
              "#ed7953"
             ],
             [
              0.7777777777777778,
              "#fb9f3a"
             ],
             [
              0.8888888888888888,
              "#fdca26"
             ],
             [
              1,
              "#f0f921"
             ]
            ],
            "type": "heatmapgl"
           }
          ],
          "histogram": [
           {
            "marker": {
             "pattern": {
              "fillmode": "overlay",
              "size": 10,
              "solidity": 0.2
             }
            },
            "type": "histogram"
           }
          ],
          "histogram2d": [
           {
            "colorbar": {
             "outlinewidth": 0,
             "ticks": ""
            },
            "colorscale": [
             [
              0,
              "#0d0887"
             ],
             [
              0.1111111111111111,
              "#46039f"
             ],
             [
              0.2222222222222222,
              "#7201a8"
             ],
             [
              0.3333333333333333,
              "#9c179e"
             ],
             [
              0.4444444444444444,
              "#bd3786"
             ],
             [
              0.5555555555555556,
              "#d8576b"
             ],
             [
              0.6666666666666666,
              "#ed7953"
             ],
             [
              0.7777777777777778,
              "#fb9f3a"
             ],
             [
              0.8888888888888888,
              "#fdca26"
             ],
             [
              1,
              "#f0f921"
             ]
            ],
            "type": "histogram2d"
           }
          ],
          "histogram2dcontour": [
           {
            "colorbar": {
             "outlinewidth": 0,
             "ticks": ""
            },
            "colorscale": [
             [
              0,
              "#0d0887"
             ],
             [
              0.1111111111111111,
              "#46039f"
             ],
             [
              0.2222222222222222,
              "#7201a8"
             ],
             [
              0.3333333333333333,
              "#9c179e"
             ],
             [
              0.4444444444444444,
              "#bd3786"
             ],
             [
              0.5555555555555556,
              "#d8576b"
             ],
             [
              0.6666666666666666,
              "#ed7953"
             ],
             [
              0.7777777777777778,
              "#fb9f3a"
             ],
             [
              0.8888888888888888,
              "#fdca26"
             ],
             [
              1,
              "#f0f921"
             ]
            ],
            "type": "histogram2dcontour"
           }
          ],
          "mesh3d": [
           {
            "colorbar": {
             "outlinewidth": 0,
             "ticks": ""
            },
            "type": "mesh3d"
           }
          ],
          "parcoords": [
           {
            "line": {
             "colorbar": {
              "outlinewidth": 0,
              "ticks": ""
             }
            },
            "type": "parcoords"
           }
          ],
          "pie": [
           {
            "automargin": true,
            "type": "pie"
           }
          ],
          "scatter": [
           {
            "marker": {
             "colorbar": {
              "outlinewidth": 0,
              "ticks": ""
             }
            },
            "type": "scatter"
           }
          ],
          "scatter3d": [
           {
            "line": {
             "colorbar": {
              "outlinewidth": 0,
              "ticks": ""
             }
            },
            "marker": {
             "colorbar": {
              "outlinewidth": 0,
              "ticks": ""
             }
            },
            "type": "scatter3d"
           }
          ],
          "scattercarpet": [
           {
            "marker": {
             "colorbar": {
              "outlinewidth": 0,
              "ticks": ""
             }
            },
            "type": "scattercarpet"
           }
          ],
          "scattergeo": [
           {
            "marker": {
             "colorbar": {
              "outlinewidth": 0,
              "ticks": ""
             }
            },
            "type": "scattergeo"
           }
          ],
          "scattergl": [
           {
            "marker": {
             "colorbar": {
              "outlinewidth": 0,
              "ticks": ""
             }
            },
            "type": "scattergl"
           }
          ],
          "scattermapbox": [
           {
            "marker": {
             "colorbar": {
              "outlinewidth": 0,
              "ticks": ""
             }
            },
            "type": "scattermapbox"
           }
          ],
          "scatterpolar": [
           {
            "marker": {
             "colorbar": {
              "outlinewidth": 0,
              "ticks": ""
             }
            },
            "type": "scatterpolar"
           }
          ],
          "scatterpolargl": [
           {
            "marker": {
             "colorbar": {
              "outlinewidth": 0,
              "ticks": ""
             }
            },
            "type": "scatterpolargl"
           }
          ],
          "scatterternary": [
           {
            "marker": {
             "colorbar": {
              "outlinewidth": 0,
              "ticks": ""
             }
            },
            "type": "scatterternary"
           }
          ],
          "surface": [
           {
            "colorbar": {
             "outlinewidth": 0,
             "ticks": ""
            },
            "colorscale": [
             [
              0,
              "#0d0887"
             ],
             [
              0.1111111111111111,
              "#46039f"
             ],
             [
              0.2222222222222222,
              "#7201a8"
             ],
             [
              0.3333333333333333,
              "#9c179e"
             ],
             [
              0.4444444444444444,
              "#bd3786"
             ],
             [
              0.5555555555555556,
              "#d8576b"
             ],
             [
              0.6666666666666666,
              "#ed7953"
             ],
             [
              0.7777777777777778,
              "#fb9f3a"
             ],
             [
              0.8888888888888888,
              "#fdca26"
             ],
             [
              1,
              "#f0f921"
             ]
            ],
            "type": "surface"
           }
          ],
          "table": [
           {
            "cells": {
             "fill": {
              "color": "#EBF0F8"
             },
             "line": {
              "color": "white"
             }
            },
            "header": {
             "fill": {
              "color": "#C8D4E3"
             },
             "line": {
              "color": "white"
             }
            },
            "type": "table"
           }
          ]
         },
         "layout": {
          "annotationdefaults": {
           "arrowcolor": "#2a3f5f",
           "arrowhead": 0,
           "arrowwidth": 1
          },
          "autotypenumbers": "strict",
          "coloraxis": {
           "colorbar": {
            "outlinewidth": 0,
            "ticks": ""
           }
          },
          "colorscale": {
           "diverging": [
            [
             0,
             "#8e0152"
            ],
            [
             0.1,
             "#c51b7d"
            ],
            [
             0.2,
             "#de77ae"
            ],
            [
             0.3,
             "#f1b6da"
            ],
            [
             0.4,
             "#fde0ef"
            ],
            [
             0.5,
             "#f7f7f7"
            ],
            [
             0.6,
             "#e6f5d0"
            ],
            [
             0.7,
             "#b8e186"
            ],
            [
             0.8,
             "#7fbc41"
            ],
            [
             0.9,
             "#4d9221"
            ],
            [
             1,
             "#276419"
            ]
           ],
           "sequential": [
            [
             0,
             "#0d0887"
            ],
            [
             0.1111111111111111,
             "#46039f"
            ],
            [
             0.2222222222222222,
             "#7201a8"
            ],
            [
             0.3333333333333333,
             "#9c179e"
            ],
            [
             0.4444444444444444,
             "#bd3786"
            ],
            [
             0.5555555555555556,
             "#d8576b"
            ],
            [
             0.6666666666666666,
             "#ed7953"
            ],
            [
             0.7777777777777778,
             "#fb9f3a"
            ],
            [
             0.8888888888888888,
             "#fdca26"
            ],
            [
             1,
             "#f0f921"
            ]
           ],
           "sequentialminus": [
            [
             0,
             "#0d0887"
            ],
            [
             0.1111111111111111,
             "#46039f"
            ],
            [
             0.2222222222222222,
             "#7201a8"
            ],
            [
             0.3333333333333333,
             "#9c179e"
            ],
            [
             0.4444444444444444,
             "#bd3786"
            ],
            [
             0.5555555555555556,
             "#d8576b"
            ],
            [
             0.6666666666666666,
             "#ed7953"
            ],
            [
             0.7777777777777778,
             "#fb9f3a"
            ],
            [
             0.8888888888888888,
             "#fdca26"
            ],
            [
             1,
             "#f0f921"
            ]
           ]
          },
          "colorway": [
           "#636efa",
           "#EF553B",
           "#00cc96",
           "#ab63fa",
           "#FFA15A",
           "#19d3f3",
           "#FF6692",
           "#B6E880",
           "#FF97FF",
           "#FECB52"
          ],
          "font": {
           "color": "#2a3f5f"
          },
          "geo": {
           "bgcolor": "white",
           "lakecolor": "white",
           "landcolor": "#E5ECF6",
           "showlakes": true,
           "showland": true,
           "subunitcolor": "white"
          },
          "hoverlabel": {
           "align": "left"
          },
          "hovermode": "closest",
          "mapbox": {
           "style": "light"
          },
          "paper_bgcolor": "white",
          "plot_bgcolor": "#E5ECF6",
          "polar": {
           "angularaxis": {
            "gridcolor": "white",
            "linecolor": "white",
            "ticks": ""
           },
           "bgcolor": "#E5ECF6",
           "radialaxis": {
            "gridcolor": "white",
            "linecolor": "white",
            "ticks": ""
           }
          },
          "scene": {
           "xaxis": {
            "backgroundcolor": "#E5ECF6",
            "gridcolor": "white",
            "gridwidth": 2,
            "linecolor": "white",
            "showbackground": true,
            "ticks": "",
            "zerolinecolor": "white"
           },
           "yaxis": {
            "backgroundcolor": "#E5ECF6",
            "gridcolor": "white",
            "gridwidth": 2,
            "linecolor": "white",
            "showbackground": true,
            "ticks": "",
            "zerolinecolor": "white"
           },
           "zaxis": {
            "backgroundcolor": "#E5ECF6",
            "gridcolor": "white",
            "gridwidth": 2,
            "linecolor": "white",
            "showbackground": true,
            "ticks": "",
            "zerolinecolor": "white"
           }
          },
          "shapedefaults": {
           "line": {
            "color": "#2a3f5f"
           }
          },
          "ternary": {
           "aaxis": {
            "gridcolor": "white",
            "linecolor": "white",
            "ticks": ""
           },
           "baxis": {
            "gridcolor": "white",
            "linecolor": "white",
            "ticks": ""
           },
           "bgcolor": "#E5ECF6",
           "caxis": {
            "gridcolor": "white",
            "linecolor": "white",
            "ticks": ""
           }
          },
          "title": {
           "x": 0.05
          },
          "xaxis": {
           "automargin": true,
           "gridcolor": "white",
           "linecolor": "white",
           "ticks": "",
           "title": {
            "standoff": 15
           },
           "zerolinecolor": "white",
           "zerolinewidth": 2
          },
          "yaxis": {
           "automargin": true,
           "gridcolor": "white",
           "linecolor": "white",
           "ticks": "",
           "title": {
            "standoff": 15
           },
           "zerolinecolor": "white",
           "zerolinewidth": 2
          }
         }
        },
        "title": {
         "text": "Tornado Rating, Width, and Path Length"
        },
        "width": 1000
       }
      }
     },
     "metadata": {},
     "output_type": "display_data"
    }
   ],
   "source": [
    "# Create a 3D plot that plots rating, width, and path length\n",
    "fig2 = px.scatter_3d(two_day_system, x='Fujita_Rating', y='Path_Length_km', z='Width_m', title='Tornado Rating, Width, and Path Length', color='Fujita_Rating',width=1000, height=1000)\n",
    "fig2.show()"
   ]
  },
  {
   "cell_type": "code",
   "execution_count": null,
   "metadata": {},
   "outputs": [],
   "source": [
    "# Use a box plot on the widths values\n",
    "plt.figure(figsize=(15, 10))\n",
    "widths_plot = plt.boxplot(two_day_system['Width_m'], widths=(0.25))\n",
    "plt.ylabel('Width in meters', size=20)\n",
    "plt.title('Box Plot of Tornado widths', size=20)\n"
   ]
  },
  {
   "cell_type": "code",
   "execution_count": null,
   "metadata": {},
   "outputs": [],
   "source": [
    "# The object from this point is to look into which states recieved the most impactful tornadoes, what were the dimension of such storms\n",
    "state_data = two_day_system.set_index(['Fujita_Rating', 'Location', 'County', 'Time_UTC', 'Summary', 'date_occured', 'Path_Length_mi', 'Path_Length_km', 'Width_yd', 'Width_m']).apply(lambda x: x.str.split(',').explode()).reset_index()  \n",
    "\n",
    "# Create df that contains the counts of each rating per state\n",
    "state_data['State'] = state_data['State'].str.strip()\n",
    "state_data.sort_values('State', inplace=True)\n",
    "\n",
    "count_per_state = state_data[['Fujita_Rating', 'State']]\n",
    "count_per_state = count_per_state.set_index(['Fujita_Rating', 'State']).reset_index()\n",
    "\n",
    "state_rating = pd.DataFrame(count_per_state.groupby(['State', 'Fujita_Rating']).size())\n",
    "state_rating = state_rating.reset_index()\n",
    "\n",
    "count_per_state = state_rating.pivot_table(values=0, index='State', columns='Fujita_Rating')\n",
    "\n",
    "# Fill all NaN to 0\n",
    "count_per_state.fillna(0, inplace=True)\n",
    "\n",
    "# Convert all values to integers\n",
    "count_per_state = count_per_state.astype(int)\n",
    "\n",
    "# Reset the index\n",
    "count_per_state.reset_index(inplace=True)\n",
    "count_per_state"
   ]
  },
  {
   "cell_type": "code",
   "execution_count": 18,
   "metadata": {},
   "outputs": [
    {
     "data": {
      "text/plain": [
       "Text(0.5, 20.80000000000002, 'State')"
      ]
     },
     "execution_count": 18,
     "metadata": {},
     "output_type": "execute_result"
    },
    {
     "data": {
      "text/plain": [
       "<Figure size 432x288 with 0 Axes>"
      ]
     },
     "metadata": {},
     "output_type": "display_data"
    },
    {
     "data": {
      "image/png": "[encoded data removed]",
      "text/plain": [
       "<Figure size 1080x720 with 1 Axes>"
      ]
     },
     "metadata": {
      "needs_background": "light"
     },
     "output_type": "display_data"
    }
   ],
   "source": [
    "%matplotlib inline\n",
    "graphable_storms = pd.melt(count_per_state, id_vars='State', var_name='Rating', value_name='Count')\n",
    "\n",
    "# Plot the values\n",
    "fig = plt.gcf()\n",
    "storm_plot = sns.catplot(x='State', y='Count', hue='Rating', data=graphable_storms, kind='bar', edgecolor='black')\n",
    "storm_plot.fig.set_figwidth(15)\n",
    "storm_plot.fig.set_figheight(10)\n",
    "\n",
    "plt.title('Tornadoes per State from Dec 10 - 11, 2021', size=20)\n",
    "plt.ylabel('Number of Tornadoes', size=15)\n",
    "plt.xlabel('State', size=15)"
   ]
  },
  {
   "cell_type": "code",
   "execution_count": 20,
   "metadata": {},
   "outputs": [
    {
     "data": {
      "text/html": [
       "<div>\n",
       "<style scoped>\n",
       "    .dataframe tbody tr th:only-of-type {\n",
       "        vertical-align: middle;\n",
       "    }\n",
       "\n",
       "    .dataframe tbody tr th {\n",
       "        vertical-align: top;\n",
       "    }\n",
       "\n",
       "    .dataframe thead th {\n",
       "        text-align: right;\n",
       "    }\n",
       "</style>\n",
       "<table border=\"1\" class=\"dataframe\">\n",
       "  <thead>\n",
       "    <tr style=\"text-align: right;\">\n",
       "      <th></th>\n",
       "      <th>Fujita_Rating</th>\n",
       "      <th>Location</th>\n",
       "      <th>County</th>\n",
       "      <th>Time_UTC</th>\n",
       "      <th>Summary</th>\n",
       "      <th>date_occured</th>\n",
       "      <th>Path_Length_mi</th>\n",
       "      <th>Path_Length_km</th>\n",
       "      <th>Width_yd</th>\n",
       "      <th>Width_m</th>\n",
       "      <th>State</th>\n",
       "    </tr>\n",
       "  </thead>\n",
       "  <tbody>\n",
       "    <tr>\n",
       "      <th>0</th>\n",
       "      <td>EF0</td>\n",
       "      <td>SW of Emerald Mountain</td>\n",
       "      <td>Elmore</td>\n",
       "      <td>22:12</td>\n",
       "      <td>A brief, weak tornado occurred just northeast ...</td>\n",
       "      <td>12-10-21</td>\n",
       "      <td>0.19</td>\n",
       "      <td>0.31</td>\n",
       "      <td>50</td>\n",
       "      <td>46</td>\n",
       "      <td>AL</td>\n",
       "    </tr>\n",
       "    <tr>\n",
       "      <th>68</th>\n",
       "      <td>EF4</td>\n",
       "      <td>N of Bay, AR to Monette, AR to Braggadocio, MO...</td>\n",
       "      <td>Craighead (AR), Mississippi (AR), Dunklin (MO)...</td>\n",
       "      <td>01:07–02:36</td>\n",
       "      <td>7 deaths – See section on this tornado – At le...</td>\n",
       "      <td>12-10-21</td>\n",
       "      <td>81.20</td>\n",
       "      <td>130.70</td>\n",
       "      <td>1800</td>\n",
       "      <td>1600</td>\n",
       "      <td>AR</td>\n",
       "    </tr>\n",
       "    <tr>\n",
       "      <th>57</th>\n",
       "      <td>EF2</td>\n",
       "      <td>Northern Augusta to S of Tupelo</td>\n",
       "      <td>Woodruff, Jackson</td>\n",
       "      <td>02:13–02:22</td>\n",
       "      <td>This tornado touched down in the northern part...</td>\n",
       "      <td>12-10-21</td>\n",
       "      <td>9.11</td>\n",
       "      <td>14.66</td>\n",
       "      <td>500</td>\n",
       "      <td>460</td>\n",
       "      <td>AR</td>\n",
       "    </tr>\n",
       "    <tr>\n",
       "      <th>47</th>\n",
       "      <td>EF2</td>\n",
       "      <td>Trumann</td>\n",
       "      <td>Poinsett</td>\n",
       "      <td>03:11–03:15</td>\n",
       "      <td>This strong tornado was spawned by an embedded...</td>\n",
       "      <td>12-10-21</td>\n",
       "      <td>3.60</td>\n",
       "      <td>5.80</td>\n",
       "      <td>250</td>\n",
       "      <td>230</td>\n",
       "      <td>AR</td>\n",
       "    </tr>\n",
       "    <tr>\n",
       "      <th>45</th>\n",
       "      <td>EF1</td>\n",
       "      <td>W of Jonesboro</td>\n",
       "      <td>Craighead</td>\n",
       "      <td>02:30–02:35</td>\n",
       "      <td>A barn was damaged, and twelve utility poles w...</td>\n",
       "      <td>12-10-21</td>\n",
       "      <td>4.66</td>\n",
       "      <td>7.50</td>\n",
       "      <td>150</td>\n",
       "      <td>140</td>\n",
       "      <td>AR</td>\n",
       "    </tr>\n",
       "    <tr>\n",
       "      <th>...</th>\n",
       "      <td>...</td>\n",
       "      <td>...</td>\n",
       "      <td>...</td>\n",
       "      <td>...</td>\n",
       "      <td>...</td>\n",
       "      <td>...</td>\n",
       "      <td>...</td>\n",
       "      <td>...</td>\n",
       "      <td>...</td>\n",
       "      <td>...</td>\n",
       "      <td>...</td>\n",
       "    </tr>\n",
       "    <tr>\n",
       "      <th>5</th>\n",
       "      <td>EF0</td>\n",
       "      <td>Hermitage</td>\n",
       "      <td>Davidson</td>\n",
       "      <td>09:33–09:35</td>\n",
       "      <td>A tornado moved from near Interstate 40 at J. ...</td>\n",
       "      <td>12-11-21</td>\n",
       "      <td>1.38</td>\n",
       "      <td>2.22</td>\n",
       "      <td>50</td>\n",
       "      <td>46</td>\n",
       "      <td>TN</td>\n",
       "    </tr>\n",
       "    <tr>\n",
       "      <th>4</th>\n",
       "      <td>EF0</td>\n",
       "      <td>N of Gallatin to SW of Bethpage</td>\n",
       "      <td>Sumner</td>\n",
       "      <td>09:42–09:47</td>\n",
       "      <td>An outbuilding was destroyed, a home sustained...</td>\n",
       "      <td>12-11-21</td>\n",
       "      <td>6.21</td>\n",
       "      <td>9.99</td>\n",
       "      <td>50</td>\n",
       "      <td>46</td>\n",
       "      <td>TN</td>\n",
       "    </tr>\n",
       "    <tr>\n",
       "      <th>3</th>\n",
       "      <td>EF0</td>\n",
       "      <td>N of Lebanon</td>\n",
       "      <td>Wilson, Sumner</td>\n",
       "      <td>09:48–09:51</td>\n",
       "      <td>Several trees were downed along a path that cr...</td>\n",
       "      <td>12-11-21</td>\n",
       "      <td>3.07</td>\n",
       "      <td>4.94</td>\n",
       "      <td>50</td>\n",
       "      <td>46</td>\n",
       "      <td>TN</td>\n",
       "    </tr>\n",
       "    <tr>\n",
       "      <th>6</th>\n",
       "      <td>EF0</td>\n",
       "      <td>NE of Pegram to NNW of Downtown Nashville</td>\n",
       "      <td>Davidson</td>\n",
       "      <td>09:12–09:21</td>\n",
       "      <td>The tornado formed just east of where the King...</td>\n",
       "      <td>12-11-21</td>\n",
       "      <td>9.00</td>\n",
       "      <td>14.00</td>\n",
       "      <td>300</td>\n",
       "      <td>270</td>\n",
       "      <td>TN</td>\n",
       "    </tr>\n",
       "    <tr>\n",
       "      <th>36</th>\n",
       "      <td>EF1</td>\n",
       "      <td>ESE of Jackson to WSW of Lexington</td>\n",
       "      <td>Madison, Henderson</td>\n",
       "      <td>07:32–07:40</td>\n",
       "      <td>One brick home sustained significant roof dama...</td>\n",
       "      <td>12-11-21</td>\n",
       "      <td>7.80</td>\n",
       "      <td>12.60</td>\n",
       "      <td>300</td>\n",
       "      <td>270</td>\n",
       "      <td>TN</td>\n",
       "    </tr>\n",
       "  </tbody>\n",
       "</table>\n",
       "<p>74 rows × 11 columns</p>\n",
       "</div>"
      ],
      "text/plain": [
       "   Fujita_Rating                                           Location  \\\n",
       "0            EF0                             SW of Emerald Mountain   \n",
       "68           EF4  N of Bay, AR to Monette, AR to Braggadocio, MO...   \n",
       "57           EF2                    Northern Augusta to S of Tupelo   \n",
       "47           EF2                                            Trumann   \n",
       "45           EF1                                     W of Jonesboro   \n",
       "..           ...                                                ...   \n",
       "5            EF0                                          Hermitage   \n",
       "4            EF0                    N of Gallatin to SW of Bethpage   \n",
       "3            EF0                                       N of Lebanon   \n",
       "6            EF0          NE of Pegram to NNW of Downtown Nashville   \n",
       "36           EF1                 ESE of Jackson to WSW of Lexington   \n",
       "\n",
       "                                               County     Time_UTC  \\\n",
       "0                                              Elmore        22:12   \n",
       "68  Craighead (AR), Mississippi (AR), Dunklin (MO)...  01:07–02:36   \n",
       "57                                  Woodruff, Jackson  02:13–02:22   \n",
       "47                                           Poinsett  03:11–03:15   \n",
       "45                                          Craighead  02:30–02:35   \n",
       "..                                                ...          ...   \n",
       "5                                            Davidson  09:33–09:35   \n",
       "4                                              Sumner  09:42–09:47   \n",
       "3                                      Wilson, Sumner  09:48–09:51   \n",
       "6                                            Davidson  09:12–09:21   \n",
       "36                                 Madison, Henderson  07:32–07:40   \n",
       "\n",
       "                                              Summary date_occured  \\\n",
       "0   A brief, weak tornado occurred just northeast ...     12-10-21   \n",
       "68  7 deaths – See section on this tornado – At le...     12-10-21   \n",
       "57  This tornado touched down in the northern part...     12-10-21   \n",
       "47  This strong tornado was spawned by an embedded...     12-10-21   \n",
       "45  A barn was damaged, and twelve utility poles w...     12-10-21   \n",
       "..                                                ...          ...   \n",
       "5   A tornado moved from near Interstate 40 at J. ...     12-11-21   \n",
       "4   An outbuilding was destroyed, a home sustained...     12-11-21   \n",
       "3   Several trees were downed along a path that cr...     12-11-21   \n",
       "6   The tornado formed just east of where the King...     12-11-21   \n",
       "36  One brick home sustained significant roof dama...     12-11-21   \n",
       "\n",
       "    Path_Length_mi  Path_Length_km  Width_yd  Width_m State  \n",
       "0             0.19            0.31        50       46    AL  \n",
       "68           81.20          130.70      1800     1600    AR  \n",
       "57            9.11           14.66       500      460    AR  \n",
       "47            3.60            5.80       250      230    AR  \n",
       "45            4.66            7.50       150      140    AR  \n",
       "..             ...             ...       ...      ...   ...  \n",
       "5             1.38            2.22        50       46    TN  \n",
       "4             6.21            9.99        50       46    TN  \n",
       "3             3.07            4.94        50       46    TN  \n",
       "6             9.00           14.00       300      270    TN  \n",
       "36            7.80           12.60       300      270    TN  \n",
       "\n",
       "[74 rows x 11 columns]"
      ]
     },
     "execution_count": 20,
     "metadata": {},
     "output_type": "execute_result"
    }
   ],
   "source": [
    "state_data"
   ]
  }
 ],
 "metadata": {
  "interpreter": {
   "hash": "668635bde37f4275f1482b353affe751b181bff51f52a59b9dba68d2c5689776"
  },
  "kernelspec": {
   "display_name": "Python 3.9.5 64-bit",
   "language": "python",
   "name": "python3"
  },
  "language_info": {
   "codemirror_mode": {
    "name": "ipython",
    "version": 3
   },
   "file_extension": ".py",
   "mimetype": "text/x-python",
   "name": "python",
   "nbconvert_exporter": "python",
   "pygments_lexer": "ipython3",
   "version": "3.9.9"
  },
  "orig_nbformat": 4
 },
 "nbformat": 4,
 "nbformat_minor": 2
}
