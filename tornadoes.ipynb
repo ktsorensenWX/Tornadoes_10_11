{
 "cells": [
  {
   "cell_type": "code",
   "execution_count": 112,
   "metadata": {},
   "outputs": [],
   "source": [
    "import pandas as pd\n",
    "import matplotlib.pyplot as plt\n",
    "import pandas_profiling as pp\n",
    "import seaborn as sns\n",
    "import plotly.express as px\n",
    "\n",
    "import sys"
   ]
  },
  {
   "cell_type": "code",
   "execution_count": 113,
   "metadata": {},
   "outputs": [],
   "source": [
    "# Read html tables from wikipedia\n",
    "dec_outbreak = pd.read_html('https://en.wikipedia.org/wiki/Tornado_outbreak_of_December_10%E2%80%9311,_2021', header=0)"
   ]
  },
  {
   "cell_type": "code",
   "execution_count": 114,
   "metadata": {},
   "outputs": [],
   "source": [
    "dec_10_system = dec_outbreak[4]\n",
    "dec_11_system = dec_outbreak[5]"
   ]
  },
  {
   "cell_type": "code",
   "execution_count": 115,
   "metadata": {},
   "outputs": [],
   "source": [
    "# Add a date column for both\n",
    "dec_10_system['date_occured'] = '12-10-21'\n",
    "dec_11_system['date_occured'] = '12-11-21'"
   ]
  },
  {
   "cell_type": "code",
   "execution_count": 116,
   "metadata": {},
   "outputs": [],
   "source": [
    "# Combine both df's\n",
    "two_day_system = pd.concat([dec_10_system, dec_11_system])"
   ]
  },
  {
   "cell_type": "code",
   "execution_count": 118,
   "metadata": {},
   "outputs": [],
   "source": [
    "# drop coordinates of origin for reliability and easier df to work with, no role in this project\n",
    "two_day_system.drop('Start Coord.', axis=1, inplace=True)"
   ]
  },
  {
   "cell_type": "code",
   "execution_count": 119,
   "metadata": {},
   "outputs": [
    {
     "name": "stderr",
     "output_type": "stream",
     "text": [
      "C:\\Users\\colts\\AppData\\Local\\Temp/ipykernel_13108/2541159907.py:2: FutureWarning:\n",
      "\n",
      "The default value of regex will change from True to False in a future version.\n",
      "\n",
      "C:\\Users\\colts\\AppData\\Local\\Temp/ipykernel_13108/2541159907.py:3: FutureWarning:\n",
      "\n",
      "The default value of regex will change from True to False in a future version.\n",
      "\n",
      "C:\\Users\\colts\\AppData\\Local\\Temp/ipykernel_13108/2541159907.py:4: FutureWarning:\n",
      "\n",
      "The default value of regex will change from True to False in a future version.\n",
      "\n",
      "C:\\Users\\colts\\AppData\\Local\\Temp/ipykernel_13108/2541159907.py:5: FutureWarning:\n",
      "\n",
      "The default value of regex will change from True to False in a future version.\n",
      "\n"
     ]
    }
   ],
   "source": [
    "# Lets work with just the dec. 10th data for now, start by splitting path length and width into two columns (mi and km)\n",
    "two_day_system['Path_Length_mi'] = two_day_system['Path length'].str.replace(r\"\\(.*\\)\",\"\").str.strip()\n",
    "two_day_system['Path_Length_km'] = two_day_system['Path length'].str.replace(r'[^(]*\\(|\\)[^)]*', '').str.strip()\n",
    "two_day_system['Width_yd'] = two_day_system['Max width'].str.replace(r\"\\(.*\\)\",\"\").str.strip()\n",
    "two_day_system['Width_m'] = two_day_system['Max width'].str.replace(r'[^(]*\\(|\\)[^)]*', '').str.strip()\n",
    "\n",
    "\n",
    "# Drop original path length column\n",
    "two_day_system.drop('Path length', axis=1, inplace=True)\n",
    "two_day_system.drop('Max width', axis=1, inplace=True)"
   ]
  },
  {
   "cell_type": "code",
   "execution_count": 120,
   "metadata": {},
   "outputs": [],
   "source": [
    "# Rename these columns to be more pythonic\n",
    "two_day_system.rename(columns={'EF#':'Fujita_Rating', 'County / Parish':'County', 'Time (UTC)':'Time_UTC'}, inplace=True)"
   ]
  },
  {
   "cell_type": "code",
   "execution_count": 121,
   "metadata": {},
   "outputs": [],
   "source": [
    "# remove units at end of lengths and widths\n",
    "two_day_system['Path_Length_mi'] = two_day_system['Path_Length_mi'].str[:-3]\n",
    "two_day_system['Path_Length_km'] = two_day_system['Path_Length_km'].str[:-3]\n",
    "two_day_system['Width_yd'] = two_day_system['Width_yd'].str[:-3]\n",
    "two_day_system['Width_m'] = two_day_system['Width_m'].str[:-2]"
   ]
  },
  {
   "cell_type": "code",
   "execution_count": 122,
   "metadata": {},
   "outputs": [],
   "source": [
    "# Strip all characters from width\n",
    "two_day_system['Width_yd'] = two_day_system['Width_yd'].str.replace(',', '')\n",
    "two_day_system['Width_m'] = two_day_system['Width_m'].str.replace(',', '')"
   ]
  },
  {
   "cell_type": "code",
   "execution_count": 123,
   "metadata": {},
   "outputs": [],
   "source": [
    "# Convert all to numeric dtypes\n",
    "two_day_system['Path_Length_mi'] = two_day_system['Path_Length_mi'].apply(pd.to_numeric)\n",
    "two_day_system['Path_Length_km'] = two_day_system['Path_Length_km'].apply(pd.to_numeric)\n",
    "two_day_system['Width_yd'] = two_day_system['Width_yd'].apply(pd.to_numeric)\n",
    "two_day_system['Width_m'] = two_day_system['Width_m'].apply(pd.to_numeric)"
   ]
  },
  {
   "cell_type": "code",
   "execution_count": 127,
   "metadata": {},
   "outputs": [
    {
     "data": {
      "text/html": [
       "<div>\n",
       "<style scoped>\n",
       "    .dataframe tbody tr th:only-of-type {\n",
       "        vertical-align: middle;\n",
       "    }\n",
       "\n",
       "    .dataframe tbody tr th {\n",
       "        vertical-align: top;\n",
       "    }\n",
       "\n",
       "    .dataframe thead th {\n",
       "        text-align: right;\n",
       "    }\n",
       "</style>\n",
       "<table border=\"1\" class=\"dataframe\">\n",
       "  <thead>\n",
       "    <tr style=\"text-align: right;\">\n",
       "      <th></th>\n",
       "      <th>Fujita_Rating</th>\n",
       "      <th>Location</th>\n",
       "      <th>County</th>\n",
       "      <th>State</th>\n",
       "      <th>Time_UTC</th>\n",
       "      <th>Summary</th>\n",
       "      <th>date_occured</th>\n",
       "      <th>Path_Length_mi</th>\n",
       "      <th>Path_Length_km</th>\n",
       "      <th>Width_yd</th>\n",
       "      <th>Width_m</th>\n",
       "    </tr>\n",
       "  </thead>\n",
       "  <tbody>\n",
       "    <tr>\n",
       "      <th>0</th>\n",
       "      <td>EF0</td>\n",
       "      <td>SW of Emerald Mountain</td>\n",
       "      <td>Elmore</td>\n",
       "      <td>AL</td>\n",
       "      <td>22:12</td>\n",
       "      <td>A brief, weak tornado occurred just northeast ...</td>\n",
       "      <td>12-10-21</td>\n",
       "      <td>0.19</td>\n",
       "      <td>0.31</td>\n",
       "      <td>50</td>\n",
       "      <td>46</td>\n",
       "    </tr>\n",
       "    <tr>\n",
       "      <th>6</th>\n",
       "      <td>EF0</td>\n",
       "      <td>W of Bay</td>\n",
       "      <td>Craighead</td>\n",
       "      <td>AR</td>\n",
       "      <td>01:03–01:04</td>\n",
       "      <td>Trees were downed, and storage buildings susta...</td>\n",
       "      <td>12-10-21</td>\n",
       "      <td>1.20</td>\n",
       "      <td>1.90</td>\n",
       "      <td>50</td>\n",
       "      <td>46</td>\n",
       "    </tr>\n",
       "    <tr>\n",
       "      <th>3</th>\n",
       "      <td>EF0</td>\n",
       "      <td>Weiner</td>\n",
       "      <td>Poinsett</td>\n",
       "      <td>AR</td>\n",
       "      <td>00:40–00:43</td>\n",
       "      <td>Trees were downed in and around town, one of w...</td>\n",
       "      <td>12-10-21</td>\n",
       "      <td>2.90</td>\n",
       "      <td>4.70</td>\n",
       "      <td>50</td>\n",
       "      <td>46</td>\n",
       "    </tr>\n",
       "    <tr>\n",
       "      <th>19</th>\n",
       "      <td>EF0</td>\n",
       "      <td>W of Union City</td>\n",
       "      <td>Obion</td>\n",
       "      <td>TN</td>\n",
       "      <td>02:41–02:44</td>\n",
       "      <td>Trees were downed, and storage buildings were ...</td>\n",
       "      <td>12-10-21</td>\n",
       "      <td>3.10</td>\n",
       "      <td>5.00</td>\n",
       "      <td>80</td>\n",
       "      <td>73</td>\n",
       "    </tr>\n",
       "    <tr>\n",
       "      <th>20</th>\n",
       "      <td>EF0</td>\n",
       "      <td>WNW of Union City</td>\n",
       "      <td>Obion</td>\n",
       "      <td>TN</td>\n",
       "      <td>02:43–02:44</td>\n",
       "      <td>Several trees were downed. This was the third ...</td>\n",
       "      <td>12-10-21</td>\n",
       "      <td>0.40</td>\n",
       "      <td>0.64</td>\n",
       "      <td>50</td>\n",
       "      <td>46</td>\n",
       "    </tr>\n",
       "    <tr>\n",
       "      <th>...</th>\n",
       "      <td>...</td>\n",
       "      <td>...</td>\n",
       "      <td>...</td>\n",
       "      <td>...</td>\n",
       "      <td>...</td>\n",
       "      <td>...</td>\n",
       "      <td>...</td>\n",
       "      <td>...</td>\n",
       "      <td>...</td>\n",
       "      <td>...</td>\n",
       "      <td>...</td>\n",
       "    </tr>\n",
       "    <tr>\n",
       "      <th>14</th>\n",
       "      <td>EF3</td>\n",
       "      <td>SW of Edwardsville</td>\n",
       "      <td>Madison</td>\n",
       "      <td>IL</td>\n",
       "      <td>02:28–02:32</td>\n",
       "      <td>6 deaths – See section on this tornado – The n...</td>\n",
       "      <td>12-10-21</td>\n",
       "      <td>3.65</td>\n",
       "      <td>5.87</td>\n",
       "      <td>300</td>\n",
       "      <td>270</td>\n",
       "    </tr>\n",
       "    <tr>\n",
       "      <th>29</th>\n",
       "      <td>EF3</td>\n",
       "      <td>Newbern, TN to Dresden, TN to Pembroke, KY to ...</td>\n",
       "      <td>Dyer (TN), Gibson (TN), Obion (TN), Weakley (T...</td>\n",
       "      <td>TN, KY</td>\n",
       "      <td>04:32–06:36</td>\n",
       "      <td>See section on this tornado – 13 people were i...</td>\n",
       "      <td>12-10-21</td>\n",
       "      <td>122.91</td>\n",
       "      <td>197.80</td>\n",
       "      <td>1038</td>\n",
       "      <td>949</td>\n",
       "    </tr>\n",
       "    <tr>\n",
       "      <th>22</th>\n",
       "      <td>EF4</td>\n",
       "      <td>Woodland Mills, TN to Cayce, KY to Mayfield, K...</td>\n",
       "      <td>Obion (TN), Fulton (KY), Hickman (KY), Graves ...</td>\n",
       "      <td>TN, KY</td>\n",
       "      <td>02:49–05:47</td>\n",
       "      <td>58 deaths – See article on this tornado – The ...</td>\n",
       "      <td>12-10-21</td>\n",
       "      <td>165.70</td>\n",
       "      <td>266.70</td>\n",
       "      <td>1760</td>\n",
       "      <td>1610</td>\n",
       "    </tr>\n",
       "    <tr>\n",
       "      <th>7</th>\n",
       "      <td>EF4</td>\n",
       "      <td>N of Bay, AR to Monette, AR to Braggadocio, MO...</td>\n",
       "      <td>Craighead (AR), Mississippi (AR), Dunklin (MO)...</td>\n",
       "      <td>AR, MO, TN</td>\n",
       "      <td>01:07–02:36</td>\n",
       "      <td>7 deaths – See section on this tornado – At le...</td>\n",
       "      <td>12-10-21</td>\n",
       "      <td>81.20</td>\n",
       "      <td>130.70</td>\n",
       "      <td>1800</td>\n",
       "      <td>1600</td>\n",
       "    </tr>\n",
       "    <tr>\n",
       "      <th>2</th>\n",
       "      <td>EFU</td>\n",
       "      <td>N of Weldon to SSW of Amagon</td>\n",
       "      <td>Jackson</td>\n",
       "      <td>AR</td>\n",
       "      <td>00:15–00:23</td>\n",
       "      <td>A tornado was caught on video over farmland; n...</td>\n",
       "      <td>12-10-21</td>\n",
       "      <td>6.69</td>\n",
       "      <td>10.77</td>\n",
       "      <td>150</td>\n",
       "      <td>140</td>\n",
       "    </tr>\n",
       "  </tbody>\n",
       "</table>\n",
       "<p>69 rows × 11 columns</p>\n",
       "</div>"
      ],
      "text/plain": [
       "   Fujita_Rating                                           Location  \\\n",
       "0            EF0                             SW of Emerald Mountain   \n",
       "6            EF0                                           W of Bay   \n",
       "3            EF0                                             Weiner   \n",
       "19           EF0                                    W of Union City   \n",
       "20           EF0                                  WNW of Union City   \n",
       "..           ...                                                ...   \n",
       "14           EF3                                 SW of Edwardsville   \n",
       "29           EF3  Newbern, TN to Dresden, TN to Pembroke, KY to ...   \n",
       "22           EF4  Woodland Mills, TN to Cayce, KY to Mayfield, K...   \n",
       "7            EF4  N of Bay, AR to Monette, AR to Braggadocio, MO...   \n",
       "2            EFU                       N of Weldon to SSW of Amagon   \n",
       "\n",
       "                                               County       State  \\\n",
       "0                                              Elmore          AL   \n",
       "6                                           Craighead          AR   \n",
       "3                                            Poinsett          AR   \n",
       "19                                              Obion          TN   \n",
       "20                                              Obion          TN   \n",
       "..                                                ...         ...   \n",
       "14                                            Madison          IL   \n",
       "29  Dyer (TN), Gibson (TN), Obion (TN), Weakley (T...      TN, KY   \n",
       "22  Obion (TN), Fulton (KY), Hickman (KY), Graves ...      TN, KY   \n",
       "7   Craighead (AR), Mississippi (AR), Dunklin (MO)...  AR, MO, TN   \n",
       "2                                             Jackson          AR   \n",
       "\n",
       "       Time_UTC                                            Summary  \\\n",
       "0         22:12  A brief, weak tornado occurred just northeast ...   \n",
       "6   01:03–01:04  Trees were downed, and storage buildings susta...   \n",
       "3   00:40–00:43  Trees were downed in and around town, one of w...   \n",
       "19  02:41–02:44  Trees were downed, and storage buildings were ...   \n",
       "20  02:43–02:44  Several trees were downed. This was the third ...   \n",
       "..          ...                                                ...   \n",
       "14  02:28–02:32  6 deaths – See section on this tornado – The n...   \n",
       "29  04:32–06:36  See section on this tornado – 13 people were i...   \n",
       "22  02:49–05:47  58 deaths – See article on this tornado – The ...   \n",
       "7   01:07–02:36  7 deaths – See section on this tornado – At le...   \n",
       "2   00:15–00:23  A tornado was caught on video over farmland; n...   \n",
       "\n",
       "   date_occured  Path_Length_mi  Path_Length_km  Width_yd  Width_m  \n",
       "0      12-10-21            0.19            0.31        50       46  \n",
       "6      12-10-21            1.20            1.90        50       46  \n",
       "3      12-10-21            2.90            4.70        50       46  \n",
       "19     12-10-21            3.10            5.00        80       73  \n",
       "20     12-10-21            0.40            0.64        50       46  \n",
       "..          ...             ...             ...       ...      ...  \n",
       "14     12-10-21            3.65            5.87       300      270  \n",
       "29     12-10-21          122.91          197.80      1038      949  \n",
       "22     12-10-21          165.70          266.70      1760     1610  \n",
       "7      12-10-21           81.20          130.70      1800     1600  \n",
       "2      12-10-21            6.69           10.77       150      140  \n",
       "\n",
       "[69 rows x 11 columns]"
      ]
     },
     "execution_count": 127,
     "metadata": {},
     "output_type": "execute_result"
    }
   ],
   "source": [
    "two_day_system.sort_values('Fujita_Rating', inplace=True)\n",
    "two_day_system"
   ]
  },
  {
   "cell_type": "code",
   "execution_count": 125,
   "metadata": {},
   "outputs": [
    {
     "data": {
      "image/png": "[encoded data removed]",
      "text/plain": [
       "<Figure size 1080x720 with 1 Axes>"
      ]
     },
     "metadata": {
      "needs_background": "light"
     },
     "output_type": "display_data"
    }
   ],
   "source": [
    "# Make a plot of rating totals\n",
    "rating_df = two_day_system[['Fujita_Rating']]\n",
    "grouped_rating = rating_df.groupby('Fujita_Rating').size()\n",
    "\n",
    "plot_rating = grouped_rating.plot(kind='bar', xlabel='Fujita Rating', ylabel='Count', title='Count of storms per rating on December 10th - 11th', \n",
    "figsize=(15,10), color='purple', edgecolor='black')\n",
    "\n"
   ]
  },
  {
   "cell_type": "code",
   "execution_count": 126,
   "metadata": {},
   "outputs": [
    {
     "data": {
      "application/vnd.plotly.v1+json": {
       "config": {
        "plotlyServerURL": "https://plot.ly"
       },
       "data": [
        {
         "hovertemplate": "Fujita_Rating=%{x}<br>Path_Length_km=%{y}<br>Width_m=%{z}<extra></extra>",
         "legendgroup": "EF0",
         "marker": {
          "color": "#636efa",
          "symbol": "circle"
         },
         "mode": "markers",
         "name": "EF0",
         "scene": "scene",
         "showlegend": true,
         "type": "scatter3d",
         "x": [
          "EF0",
          "EF0",
          "EF0",
          "EF0",
          "EF0",
          "EF0",
          "EF0",
          "EF0",
          "EF0",
          "EF0",
          "EF0",
          "EF0",
          "EF0",
          "EF0",
          "EF0",
          "EF0",
          "EF0"
         ],
         "y": [
          0.31,
          3.44,
          11.73,
          4.94,
          9.99,
          2.22,
          14,
          10.91,
          0.85,
          7.7,
          0.4,
          0.8,
          0.64,
          5,
          6.1,
          4.7,
          1.9
         ],
         "z": [
          46,
          27,
          69,
          46,
          46,
          46,
          270,
          91,
          46,
          91,
          18,
          23,
          46,
          73,
          180,
          46,
          46
         ]
        },
        {
         "hovertemplate": "Fujita_Rating=%{x}<br>Path_Length_km=%{y}<br>Width_m=%{z}<extra></extra>",
         "legendgroup": "EF1",
         "marker": {
          "color": "#EF553B",
          "symbol": "circle"
         },
         "mode": "markers",
         "name": "EF1",
         "scene": "scene",
         "showlegend": true,
         "type": "scatter3d",
         "x": [
          "EF1",
          "EF1",
          "EF1",
          "EF1",
          "EF1",
          "EF1",
          "EF1",
          "EF1",
          "EF1",
          "EF1",
          "EF1",
          "EF1",
          "EF1",
          "EF1",
          "EF1",
          "EF1",
          "EF1",
          "EF1",
          "EF1",
          "EF1",
          "EF1",
          "EF1",
          "EF1",
          "EF1",
          "EF1",
          "EF1",
          "EF1",
          "EF1"
         ],
         "y": [
          0.82,
          23.3,
          3.1,
          8.96,
          5.84,
          11.54,
          4.72,
          0.97,
          0.4,
          1.9,
          10.98,
          12.34,
          1.6,
          10,
          17.98,
          7.2,
          10.1,
          2.6,
          12.6,
          14.6,
          2.98,
          1.08,
          0.97,
          4.43,
          14.2,
          3.1,
          0.89,
          7.5
         ],
         "z": [
          27,
          230,
          46,
          160,
          370,
          91,
          870,
          91,
          69,
          114,
          140,
          91,
          46,
          140,
          69,
          91,
          69,
          240,
          270,
          91,
          91,
          69,
          91,
          69,
          91,
          46,
          73,
          140
         ]
        },
        {
         "hovertemplate": "Fujita_Rating=%{x}<br>Path_Length_km=%{y}<br>Width_m=%{z}<extra></extra>",
         "legendgroup": "EF2",
         "marker": {
          "color": "#00cc96",
          "symbol": "circle"
         },
         "mode": "markers",
         "name": "EF2",
         "scene": "scene",
         "showlegend": true,
         "type": "scatter3d",
         "x": [
          "EF2",
          "EF2",
          "EF2",
          "EF2",
          "EF2",
          "EF2",
          "EF2",
          "EF2",
          "EF2",
          "EF2",
          "EF2",
          "EF2",
          "EF2",
          "EF2",
          "EF2"
         ],
         "y": [
          66.74,
          5.8,
          25.4,
          7.4,
          10.1,
          9.8,
          38.54,
          19.65,
          20.57,
          21.13,
          24.9,
          14.66,
          26.7,
          1.01,
          5.87
         ],
         "z": [
          630,
          230,
          180,
          230,
          270,
          270,
          480,
          370,
          180,
          460,
          550,
          460,
          820,
          91,
          91
         ]
        },
        {
         "hovertemplate": "Fujita_Rating=%{x}<br>Path_Length_km=%{y}<br>Width_m=%{z}<extra></extra>",
         "legendgroup": "EF3",
         "marker": {
          "color": "#ab63fa",
          "symbol": "circle"
         },
         "mode": "markers",
         "name": "EF3",
         "scene": "scene",
         "showlegend": true,
         "type": "scatter3d",
         "x": [
          "EF3",
          "EF3",
          "EF3",
          "EF3",
          "EF3",
          "EF3"
         ],
         "y": [
          48,
          34,
          23.7,
          45.11,
          5.87,
          197.8
         ],
         "z": [
          400,
          91,
          410,
          1300,
          270,
          949
         ]
        },
        {
         "hovertemplate": "Fujita_Rating=%{x}<br>Path_Length_km=%{y}<br>Width_m=%{z}<extra></extra>",
         "legendgroup": "EF4",
         "marker": {
          "color": "#FFA15A",
          "symbol": "circle"
         },
         "mode": "markers",
         "name": "EF4",
         "scene": "scene",
         "showlegend": true,
         "type": "scatter3d",
         "x": [
          "EF4",
          "EF4"
         ],
         "y": [
          130.7,
          266.7
         ],
         "z": [
          1600,
          1610
         ]
        },
        {
         "hovertemplate": "Fujita_Rating=%{x}<br>Path_Length_km=%{y}<br>Width_m=%{z}<extra></extra>",
         "legendgroup": "EFU",
         "marker": {
          "color": "#19d3f3",
          "symbol": "circle"
         },
         "mode": "markers",
         "name": "EFU",
         "scene": "scene",
         "showlegend": true,
         "type": "scatter3d",
         "x": [
          "EFU"
         ],
         "y": [
          10.77
         ],
         "z": [
          140
         ]
        }
       ],
       "layout": {
        "height": 1000,
        "legend": {
         "title": {
          "text": "Fujita_Rating"
         },
         "tracegroupgap": 0
        },
        "scene": {
         "domain": {
          "x": [
           0,
           1
          ],
          "y": [
           0,
           1
          ]
         },
         "xaxis": {
          "categoryarray": [
           "EF0",
           "EF1",
           "EF2",
           "EF3",
           "EF4",
           "EFU"
          ],
          "categoryorder": "array",
          "title": {
           "text": "Fujita_Rating"
          }
         },
         "yaxis": {
          "title": {
           "text": "Path_Length_km"
          }
         },
         "zaxis": {
          "title": {
           "text": "Width_m"
          }
         }
        },
        "template": {
         "data": {
          "bar": [
           {
            "error_x": {
             "color": "#2a3f5f"
            },
            "error_y": {
             "color": "#2a3f5f"
            },
            "marker": {
             "line": {
              "color": "#E5ECF6",
              "width": 0.5
             },
             "pattern": {
              "fillmode": "overlay",
              "size": 10,
              "solidity": 0.2
             }
            },
            "type": "bar"
           }
          ],
          "barpolar": [
           {
            "marker": {
             "line": {
              "color": "#E5ECF6",
              "width": 0.5
             },
             "pattern": {
              "fillmode": "overlay",
              "size": 10,
              "solidity": 0.2
             }
            },
            "type": "barpolar"
           }
          ],
          "carpet": [
           {
            "aaxis": {
             "endlinecolor": "#2a3f5f",
             "gridcolor": "white",
             "linecolor": "white",
             "minorgridcolor": "white",
             "startlinecolor": "#2a3f5f"
            },
            "baxis": {
             "endlinecolor": "#2a3f5f",
             "gridcolor": "white",
             "linecolor": "white",
             "minorgridcolor": "white",
             "startlinecolor": "#2a3f5f"
            },
            "type": "carpet"
           }
          ],
          "choropleth": [
           {
            "colorbar": {
             "outlinewidth": 0,
             "ticks": ""
            },
            "type": "choropleth"
           }
          ],
          "contour": [
           {
            "colorbar": {
             "outlinewidth": 0,
             "ticks": ""
            },
            "colorscale": [
             [
              0,
              "#0d0887"
             ],
             [
              0.1111111111111111,
              "#46039f"
             ],
             [
              0.2222222222222222,
              "#7201a8"
             ],
             [
              0.3333333333333333,
              "#9c179e"
             ],
             [
              0.4444444444444444,
              "#bd3786"
             ],
             [
              0.5555555555555556,
              "#d8576b"
             ],
             [
              0.6666666666666666,
              "#ed7953"
             ],
             [
              0.7777777777777778,
              "#fb9f3a"
             ],
             [
              0.8888888888888888,
              "#fdca26"
             ],
             [
              1,
              "#f0f921"
             ]
            ],
            "type": "contour"
           }
          ],
          "contourcarpet": [
           {
            "colorbar": {
             "outlinewidth": 0,
             "ticks": ""
            },
            "type": "contourcarpet"
           }
          ],
          "heatmap": [
           {
            "colorbar": {
             "outlinewidth": 0,
             "ticks": ""
            },
            "colorscale": [
             [
              0,
              "#0d0887"
             ],
             [
              0.1111111111111111,
              "#46039f"
             ],
             [
              0.2222222222222222,
              "#7201a8"
             ],
             [
              0.3333333333333333,
              "#9c179e"
             ],
             [
              0.4444444444444444,
              "#bd3786"
             ],
             [
              0.5555555555555556,
              "#d8576b"
             ],
             [
              0.6666666666666666,
              "#ed7953"
             ],
             [
              0.7777777777777778,
              "#fb9f3a"
             ],
             [
              0.8888888888888888,
              "#fdca26"
             ],
             [
              1,
              "#f0f921"
             ]
            ],
            "type": "heatmap"
           }
          ],
          "heatmapgl": [
           {
            "colorbar": {
             "outlinewidth": 0,
             "ticks": ""
            },
            "colorscale": [
             [
              0,
              "#0d0887"
             ],
             [
              0.1111111111111111,
              "#46039f"
             ],
             [
              0.2222222222222222,
              "#7201a8"
             ],
             [
              0.3333333333333333,
              "#9c179e"
             ],
             [
              0.4444444444444444,
              "#bd3786"
             ],
             [
              0.5555555555555556,
              "#d8576b"
             ],
             [
              0.6666666666666666,
              "#ed7953"
             ],
             [
              0.7777777777777778,
              "#fb9f3a"
             ],
             [
              0.8888888888888888,
              "#fdca26"
             ],
             [
              1,
              "#f0f921"
             ]
            ],
            "type": "heatmapgl"
           }
          ],
          "histogram": [
           {
            "marker": {
             "pattern": {
              "fillmode": "overlay",
              "size": 10,
              "solidity": 0.2
             }
            },
            "type": "histogram"
           }
          ],
          "histogram2d": [
           {
            "colorbar": {
             "outlinewidth": 0,
             "ticks": ""
            },
            "colorscale": [
             [
              0,
              "#0d0887"
             ],
             [
              0.1111111111111111,
              "#46039f"
             ],
             [
              0.2222222222222222,
              "#7201a8"
             ],
             [
              0.3333333333333333,
              "#9c179e"
             ],
             [
              0.4444444444444444,
              "#bd3786"
             ],
             [
              0.5555555555555556,
              "#d8576b"
             ],
             [
              0.6666666666666666,
              "#ed7953"
             ],
             [
              0.7777777777777778,
              "#fb9f3a"
             ],
             [
              0.8888888888888888,
              "#fdca26"
             ],
             [
              1,
              "#f0f921"
             ]
            ],
            "type": "histogram2d"
           }
          ],
          "histogram2dcontour": [
           {
            "colorbar": {
             "outlinewidth": 0,
             "ticks": ""
            },
            "colorscale": [
             [
              0,
              "#0d0887"
             ],
             [
              0.1111111111111111,
              "#46039f"
             ],
             [
              0.2222222222222222,
              "#7201a8"
             ],
             [
              0.3333333333333333,
              "#9c179e"
             ],
             [
              0.4444444444444444,
              "#bd3786"
             ],
             [
              0.5555555555555556,
              "#d8576b"
             ],
             [
              0.6666666666666666,
              "#ed7953"
             ],
             [
              0.7777777777777778,
              "#fb9f3a"
             ],
             [
              0.8888888888888888,
              "#fdca26"
             ],
             [
              1,
              "#f0f921"
             ]
            ],
            "type": "histogram2dcontour"
           }
          ],
          "mesh3d": [
           {
            "colorbar": {
             "outlinewidth": 0,
             "ticks": ""
            },
            "type": "mesh3d"
           }
          ],
          "parcoords": [
           {
            "line": {
             "colorbar": {
              "outlinewidth": 0,
              "ticks": ""
             }
            },
            "type": "parcoords"
           }
          ],
          "pie": [
           {
            "automargin": true,
            "type": "pie"
           }
          ],
          "scatter": [
           {
            "marker": {
             "colorbar": {
              "outlinewidth": 0,
              "ticks": ""
             }
            },
            "type": "scatter"
           }
          ],
          "scatter3d": [
           {
            "line": {
             "colorbar": {
              "outlinewidth": 0,
              "ticks": ""
             }
            },
            "marker": {
             "colorbar": {
              "outlinewidth": 0,
              "ticks": ""
             }
            },
            "type": "scatter3d"
           }
          ],
          "scattercarpet": [
           {
            "marker": {
             "colorbar": {
              "outlinewidth": 0,
              "ticks": ""
             }
            },
            "type": "scattercarpet"
           }
          ],
          "scattergeo": [
           {
            "marker": {
             "colorbar": {
              "outlinewidth": 0,
              "ticks": ""
             }
            },
            "type": "scattergeo"
           }
          ],
          "scattergl": [
           {
            "marker": {
             "colorbar": {
              "outlinewidth": 0,
              "ticks": ""
             }
            },
            "type": "scattergl"
           }
          ],
          "scattermapbox": [
           {
            "marker": {
             "colorbar": {
              "outlinewidth": 0,
              "ticks": ""
             }
            },
            "type": "scattermapbox"
           }
          ],
          "scatterpolar": [
           {
            "marker": {
             "colorbar": {
              "outlinewidth": 0,
              "ticks": ""
             }
            },
            "type": "scatterpolar"
           }
          ],
          "scatterpolargl": [
           {
            "marker": {
             "colorbar": {
              "outlinewidth": 0,
              "ticks": ""
             }
            },
            "type": "scatterpolargl"
           }
          ],
          "scatterternary": [
           {
            "marker": {
             "colorbar": {
              "outlinewidth": 0,
              "ticks": ""
             }
            },
            "type": "scatterternary"
           }
          ],
          "surface": [
           {
            "colorbar": {
             "outlinewidth": 0,
             "ticks": ""
            },
            "colorscale": [
             [
              0,
              "#0d0887"
             ],
             [
              0.1111111111111111,
              "#46039f"
             ],
             [
              0.2222222222222222,
              "#7201a8"
             ],
             [
              0.3333333333333333,
              "#9c179e"
             ],
             [
              0.4444444444444444,
              "#bd3786"
             ],
             [
              0.5555555555555556,
              "#d8576b"
             ],
             [
              0.6666666666666666,
              "#ed7953"
             ],
             [
              0.7777777777777778,
              "#fb9f3a"
             ],
             [
              0.8888888888888888,
              "#fdca26"
             ],
             [
              1,
              "#f0f921"
             ]
            ],
            "type": "surface"
           }
          ],
          "table": [
           {
            "cells": {
             "fill": {
              "color": "#EBF0F8"
             },
             "line": {
              "color": "white"
             }
            },
            "header": {
             "fill": {
              "color": "#C8D4E3"
             },
             "line": {
              "color": "white"
             }
            },
            "type": "table"
           }
          ]
         },
         "layout": {
          "annotationdefaults": {
           "arrowcolor": "#2a3f5f",
           "arrowhead": 0,
           "arrowwidth": 1
          },
          "autotypenumbers": "strict",
          "coloraxis": {
           "colorbar": {
            "outlinewidth": 0,
            "ticks": ""
           }
          },
          "colorscale": {
           "diverging": [
            [
             0,
             "#8e0152"
            ],
            [
             0.1,
             "#c51b7d"
            ],
            [
             0.2,
             "#de77ae"
            ],
            [
             0.3,
             "#f1b6da"
            ],
            [
             0.4,
             "#fde0ef"
            ],
            [
             0.5,
             "#f7f7f7"
            ],
            [
             0.6,
             "#e6f5d0"
            ],
            [
             0.7,
             "#b8e186"
            ],
            [
             0.8,
             "#7fbc41"
            ],
            [
             0.9,
             "#4d9221"
            ],
            [
             1,
             "#276419"
            ]
           ],
           "sequential": [
            [
             0,
             "#0d0887"
            ],
            [
             0.1111111111111111,
             "#46039f"
            ],
            [
             0.2222222222222222,
             "#7201a8"
            ],
            [
             0.3333333333333333,
             "#9c179e"
            ],
            [
             0.4444444444444444,
             "#bd3786"
            ],
            [
             0.5555555555555556,
             "#d8576b"
            ],
            [
             0.6666666666666666,
             "#ed7953"
            ],
            [
             0.7777777777777778,
             "#fb9f3a"
            ],
            [
             0.8888888888888888,
             "#fdca26"
            ],
            [
             1,
             "#f0f921"
            ]
           ],
           "sequentialminus": [
            [
             0,
             "#0d0887"
            ],
            [
             0.1111111111111111,
             "#46039f"
            ],
            [
             0.2222222222222222,
             "#7201a8"
            ],
            [
             0.3333333333333333,
             "#9c179e"
            ],
            [
             0.4444444444444444,
             "#bd3786"
            ],
            [
             0.5555555555555556,
             "#d8576b"
            ],
            [
             0.6666666666666666,
             "#ed7953"
            ],
            [
             0.7777777777777778,
             "#fb9f3a"
            ],
            [
             0.8888888888888888,
             "#fdca26"
            ],
            [
             1,
             "#f0f921"
            ]
           ]
          },
          "colorway": [
           "#636efa",
           "#EF553B",
           "#00cc96",
           "#ab63fa",
           "#FFA15A",
           "#19d3f3",
           "#FF6692",
           "#B6E880",
           "#FF97FF",
           "#FECB52"
          ],
          "font": {
           "color": "#2a3f5f"
          },
          "geo": {
           "bgcolor": "white",
           "lakecolor": "white",
           "landcolor": "#E5ECF6",
           "showlakes": true,
           "showland": true,
           "subunitcolor": "white"
          },
          "hoverlabel": {
           "align": "left"
          },
          "hovermode": "closest",
          "mapbox": {
           "style": "light"
          },
          "paper_bgcolor": "white",
          "plot_bgcolor": "#E5ECF6",
          "polar": {
           "angularaxis": {
            "gridcolor": "white",
            "linecolor": "white",
            "ticks": ""
           },
           "bgcolor": "#E5ECF6",
           "radialaxis": {
            "gridcolor": "white",
            "linecolor": "white",
            "ticks": ""
           }
          },
          "scene": {
           "xaxis": {
            "backgroundcolor": "#E5ECF6",
            "gridcolor": "white",
            "gridwidth": 2,
            "linecolor": "white",
            "showbackground": true,
            "ticks": "",
            "zerolinecolor": "white"
           },
           "yaxis": {
            "backgroundcolor": "#E5ECF6",
            "gridcolor": "white",
            "gridwidth": 2,
            "linecolor": "white",
            "showbackground": true,
            "ticks": "",
            "zerolinecolor": "white"
           },
           "zaxis": {
            "backgroundcolor": "#E5ECF6",
            "gridcolor": "white",
            "gridwidth": 2,
            "linecolor": "white",
            "showbackground": true,
            "ticks": "",
            "zerolinecolor": "white"
           }
          },
          "shapedefaults": {
           "line": {
            "color": "#2a3f5f"
           }
          },
          "ternary": {
           "aaxis": {
            "gridcolor": "white",
            "linecolor": "white",
            "ticks": ""
           },
           "baxis": {
            "gridcolor": "white",
            "linecolor": "white",
            "ticks": ""
           },
           "bgcolor": "#E5ECF6",
           "caxis": {
            "gridcolor": "white",
            "linecolor": "white",
            "ticks": ""
           }
          },
          "title": {
           "x": 0.05
          },
          "xaxis": {
           "automargin": true,
           "gridcolor": "white",
           "linecolor": "white",
           "ticks": "",
           "title": {
            "standoff": 15
           },
           "zerolinecolor": "white",
           "zerolinewidth": 2
          },
          "yaxis": {
           "automargin": true,
           "gridcolor": "white",
           "linecolor": "white",
           "ticks": "",
           "title": {
            "standoff": 15
           },
           "zerolinecolor": "white",
           "zerolinewidth": 2
          }
         }
        },
        "title": {
         "text": "Tornado Rating, Width, and Path Length"
        },
        "width": 1000
       }
      }
     },
     "metadata": {},
     "output_type": "display_data"
    }
   ],
   "source": [
    "# Create a 3D plot that plots rating, width, and path length\n",
    "fig2 = px.scatter_3d(two_day_system, x='Fujita_Rating', y='Path_Length_km', z='Width_m', title='Tornado Rating, Width, and Path Length', color='Fujita_Rating',width=1000, height=1000)\n",
    "fig2.show()"
   ]
  }
 ],
 "metadata": {
  "interpreter": {
   "hash": "668635bde37f4275f1482b353affe751b181bff51f52a59b9dba68d2c5689776"
  },
  "kernelspec": {
   "display_name": "Python 3.9.5 64-bit",
   "language": "python",
   "name": "python3"
  },
  "language_info": {
   "codemirror_mode": {
    "name": "ipython",
    "version": 3
   },
   "file_extension": ".py",
   "mimetype": "text/x-python",
   "name": "python",
   "nbconvert_exporter": "python",
   "pygments_lexer": "ipython3",
   "version": "3.9.9"
  },
  "orig_nbformat": 4
 },
 "nbformat": 4,
 "nbformat_minor": 2
}
